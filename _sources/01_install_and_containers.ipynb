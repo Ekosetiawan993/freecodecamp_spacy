{
 "cells": [
  {
   "cell_type": "code",
   "execution_count": null,
   "id": "statistical-gasoline",
   "metadata": {},
   "outputs": [],
   "source": [
    "!pip install spacy"
   ]
  },
  {
   "cell_type": "code",
   "execution_count": null,
   "id": "average-scope",
   "metadata": {},
   "outputs": [],
   "source": [
    "!python -m spacy download en_core_web_sm"
   ]
  },
  {
   "cell_type": "code",
   "execution_count": null,
   "id": "external-bowling",
   "metadata": {},
   "outputs": [],
   "source": [
    "import spacy"
   ]
  },
  {
   "cell_type": "code",
   "execution_count": null,
   "id": "powerful-springfield",
   "metadata": {},
   "outputs": [],
   "source": [
    "nlp = spacy.load(\"en_core_web_sm\")"
   ]
  },
  {
   "cell_type": "markdown",
   "id": "sublime-bedroom",
   "metadata": {},
   "source": [
    "## Containers"
   ]
  },
  {
   "cell_type": "markdown",
   "id": "awful-royalty",
   "metadata": {},
   "source": [
    "* <b>Doc</b>\n",
    "* DocBin\n",
    "* Example\n",
    "* Language\n",
    "* Lexeme\n",
    "* <b>Span</b>\n",
    "* SpanGroup\n",
    "* <b>Token</b>"
   ]
  },
  {
   "cell_type": "markdown",
   "id": "square-abortion",
   "metadata": {},
   "source": [
    "<p align=\"center\">\n",
    "  <img height=\"300\" src=\"images/spacy_containers.png\">\n",
    "</p>"
   ]
  },
  {
   "cell_type": "code",
   "execution_count": null,
   "id": "stylish-lloyd",
   "metadata": {},
   "outputs": [],
   "source": []
  }
 ],
 "metadata": {
  "kernelspec": {
   "display_name": "Python 3",
   "language": "python",
   "name": "python3"
  },
  "language_info": {
   "codemirror_mode": {
    "name": "ipython",
    "version": 3
   },
   "file_extension": ".py",
   "mimetype": "text/x-python",
   "name": "python",
   "nbconvert_exporter": "python",
   "pygments_lexer": "ipython3",
   "version": "3.9.2"
  }
 },
 "nbformat": 4,
 "nbformat_minor": 5
}
